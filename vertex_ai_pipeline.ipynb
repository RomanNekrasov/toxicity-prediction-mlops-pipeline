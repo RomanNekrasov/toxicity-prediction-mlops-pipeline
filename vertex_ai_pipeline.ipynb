{
 "cells": [
  {
   "cell_type": "code",
   "execution_count": 1,
   "metadata": {},
   "outputs": [
    {
     "name": "stdout",
     "output_type": "stream",
     "text": [
      "Requirement already satisfied: kfp>2 in /opt/conda/lib/python3.10/site-packages (2.3.0)\n",
      "Requirement already satisfied: google-cloud-pipeline-components>2 in /home/jupyter/.local/lib/python3.10/site-packages (2.4.1)\n",
      "Requirement already satisfied: google-cloud-aiplatform in /home/jupyter/.local/lib/python3.10/site-packages (1.35.0)\n",
      "Requirement already satisfied: click<9,>=8.0.0 in /opt/conda/lib/python3.10/site-packages (from kfp>2) (8.1.7)\n",
      "Requirement already satisfied: docstring-parser<1,>=0.7.3 in /opt/conda/lib/python3.10/site-packages (from kfp>2) (0.15)\n",
      "Requirement already satisfied: google-api-core!=2.0.*,!=2.1.*,!=2.2.*,!=2.3.0,<3.0.0dev,>=1.31.5 in /opt/conda/lib/python3.10/site-packages (from kfp>2) (1.34.0)\n",
      "Requirement already satisfied: google-auth<3,>=1.6.1 in /opt/conda/lib/python3.10/site-packages (from kfp>2) (2.23.0)\n",
      "Requirement already satisfied: google-cloud-storage<3,>=2.2.1 in /opt/conda/lib/python3.10/site-packages (from kfp>2) (2.11.0)\n",
      "Requirement already satisfied: kfp-pipeline-spec==0.2.2 in /opt/conda/lib/python3.10/site-packages (from kfp>2) (0.2.2)\n",
      "Requirement already satisfied: kfp-server-api<2.1.0,>=2.0.0 in /opt/conda/lib/python3.10/site-packages (from kfp>2) (2.0.1)\n",
      "Requirement already satisfied: kubernetes<27,>=8.0.0 in /opt/conda/lib/python3.10/site-packages (from kfp>2) (26.1.0)\n",
      "Requirement already satisfied: protobuf<4,>=3.13.0 in /opt/conda/lib/python3.10/site-packages (from kfp>2) (3.20.3)\n",
      "Requirement already satisfied: PyYAML<7,>=5.3 in /opt/conda/lib/python3.10/site-packages (from kfp>2) (6.0.1)\n",
      "Requirement already satisfied: requests-toolbelt<1,>=0.8.0 in /opt/conda/lib/python3.10/site-packages (from kfp>2) (0.10.1)\n",
      "Requirement already satisfied: tabulate<1,>=0.8.6 in /opt/conda/lib/python3.10/site-packages (from kfp>2) (0.9.0)\n",
      "Requirement already satisfied: urllib3<2.0.0 in /opt/conda/lib/python3.10/site-packages (from kfp>2) (1.26.16)\n",
      "Requirement already satisfied: Jinja2==3.1.2 in /opt/conda/lib/python3.10/site-packages (from google-cloud-pipeline-components>2) (3.1.2)\n",
      "Requirement already satisfied: MarkupSafe>=2.0 in /opt/conda/lib/python3.10/site-packages (from Jinja2==3.1.2->google-cloud-pipeline-components>2) (2.1.3)\n",
      "Requirement already satisfied: proto-plus<2.0.0dev,>=1.22.0 in /opt/conda/lib/python3.10/site-packages (from google-cloud-aiplatform) (1.22.3)\n",
      "Requirement already satisfied: packaging>=14.3 in /opt/conda/lib/python3.10/site-packages (from google-cloud-aiplatform) (23.1)\n",
      "Requirement already satisfied: google-cloud-bigquery<4.0.0dev,>=1.15.0 in /opt/conda/lib/python3.10/site-packages (from google-cloud-aiplatform) (3.11.4)\n",
      "Requirement already satisfied: google-cloud-resource-manager<3.0.0dev,>=1.3.3 in /opt/conda/lib/python3.10/site-packages (from google-cloud-aiplatform) (1.10.4)\n",
      "Requirement already satisfied: shapely<3.0.0dev in /opt/conda/lib/python3.10/site-packages (from google-cloud-aiplatform) (1.8.5.post1)\n",
      "Requirement already satisfied: googleapis-common-protos<2.0dev,>=1.56.2 in /opt/conda/lib/python3.10/site-packages (from google-api-core!=2.0.*,!=2.1.*,!=2.2.*,!=2.3.0,<3.0.0dev,>=1.31.5->kfp>2) (1.60.0)\n",
      "Requirement already satisfied: requests<3.0.0dev,>=2.18.0 in /opt/conda/lib/python3.10/site-packages (from google-api-core!=2.0.*,!=2.1.*,!=2.2.*,!=2.3.0,<3.0.0dev,>=1.31.5->kfp>2) (2.31.0)\n",
      "Requirement already satisfied: grpcio<2.0dev,>=1.33.2 in /opt/conda/lib/python3.10/site-packages (from google-api-core!=2.0.*,!=2.1.*,!=2.2.*,!=2.3.0,<3.0.0dev,>=1.31.5->kfp>2) (1.58.0)\n",
      "Requirement already satisfied: grpcio-status<2.0dev,>=1.33.2 in /opt/conda/lib/python3.10/site-packages (from google-api-core!=2.0.*,!=2.1.*,!=2.2.*,!=2.3.0,<3.0.0dev,>=1.31.5->kfp>2) (1.48.2)\n",
      "Requirement already satisfied: cachetools<6.0,>=2.0.0 in /opt/conda/lib/python3.10/site-packages (from google-auth<3,>=1.6.1->kfp>2) (5.3.1)\n",
      "Requirement already satisfied: pyasn1-modules>=0.2.1 in /opt/conda/lib/python3.10/site-packages (from google-auth<3,>=1.6.1->kfp>2) (0.3.0)\n",
      "Requirement already satisfied: rsa<5,>=3.1.4 in /opt/conda/lib/python3.10/site-packages (from google-auth<3,>=1.6.1->kfp>2) (4.9)\n",
      "Requirement already satisfied: google-cloud-core<3.0.0dev,>=1.6.0 in /opt/conda/lib/python3.10/site-packages (from google-cloud-bigquery<4.0.0dev,>=1.15.0->google-cloud-aiplatform) (2.3.3)\n",
      "Requirement already satisfied: google-resumable-media<3.0dev,>=0.6.0 in /opt/conda/lib/python3.10/site-packages (from google-cloud-bigquery<4.0.0dev,>=1.15.0->google-cloud-aiplatform) (2.6.0)\n",
      "Requirement already satisfied: python-dateutil<3.0dev,>=2.7.2 in /opt/conda/lib/python3.10/site-packages (from google-cloud-bigquery<4.0.0dev,>=1.15.0->google-cloud-aiplatform) (2.8.2)\n",
      "Requirement already satisfied: grpc-google-iam-v1<1.0.0dev,>=0.12.4 in /opt/conda/lib/python3.10/site-packages (from google-cloud-resource-manager<3.0.0dev,>=1.3.3->google-cloud-aiplatform) (0.12.6)\n",
      "Requirement already satisfied: six>=1.10 in /opt/conda/lib/python3.10/site-packages (from kfp-server-api<2.1.0,>=2.0.0->kfp>2) (1.16.0)\n",
      "Requirement already satisfied: certifi in /opt/conda/lib/python3.10/site-packages (from kfp-server-api<2.1.0,>=2.0.0->kfp>2) (2023.7.22)\n",
      "Requirement already satisfied: setuptools>=21.0.0 in /opt/conda/lib/python3.10/site-packages (from kubernetes<27,>=8.0.0->kfp>2) (68.2.2)\n",
      "Requirement already satisfied: websocket-client!=0.40.0,!=0.41.*,!=0.42.*,>=0.32.0 in /opt/conda/lib/python3.10/site-packages (from kubernetes<27,>=8.0.0->kfp>2) (1.6.3)\n",
      "Requirement already satisfied: requests-oauthlib in /opt/conda/lib/python3.10/site-packages (from kubernetes<27,>=8.0.0->kfp>2) (1.3.1)\n",
      "Requirement already satisfied: google-crc32c<2.0dev,>=1.0 in /opt/conda/lib/python3.10/site-packages (from google-resumable-media<3.0dev,>=0.6.0->google-cloud-bigquery<4.0.0dev,>=1.15.0->google-cloud-aiplatform) (1.5.0)\n",
      "Requirement already satisfied: pyasn1<0.6.0,>=0.4.6 in /opt/conda/lib/python3.10/site-packages (from pyasn1-modules>=0.2.1->google-auth<3,>=1.6.1->kfp>2) (0.5.0)\n",
      "Requirement already satisfied: charset-normalizer<4,>=2 in /opt/conda/lib/python3.10/site-packages (from requests<3.0.0dev,>=2.18.0->google-api-core!=2.0.*,!=2.1.*,!=2.2.*,!=2.3.0,<3.0.0dev,>=1.31.5->kfp>2) (3.2.0)\n",
      "Requirement already satisfied: idna<4,>=2.5 in /opt/conda/lib/python3.10/site-packages (from requests<3.0.0dev,>=2.18.0->google-api-core!=2.0.*,!=2.1.*,!=2.2.*,!=2.3.0,<3.0.0dev,>=1.31.5->kfp>2) (3.4)\n",
      "Requirement already satisfied: oauthlib>=3.0.0 in /opt/conda/lib/python3.10/site-packages (from requests-oauthlib->kubernetes<27,>=8.0.0->kfp>2) (3.2.2)\n"
     ]
    }
   ],
   "source": [
    "# Install the packages\n",
    "! pip3 install --user --no-cache-dir --upgrade \"kfp>2\" \"google-cloud-pipeline-components>2\" \\\n",
    "                                        google-cloud-aiplatform"
   ]
  },
  {
   "cell_type": "code",
   "execution_count": null,
   "metadata": {
    "pycharm": {
     "is_executing": true
    }
   },
   "outputs": [],
   "source": [
    "import os\n",
    "\n",
    "if not os.getenv(\"IS_TESTING\"):\n",
    "    # Automatically restart kernel after installs\n",
    "    import IPython\n",
    "\n",
    "    app = IPython.Application.instance()\n",
    "    app.kernel.do_shutdown(True)"
   ]
  },
  {
   "cell_type": "code",
   "execution_count": 1,
   "metadata": {},
   "outputs": [],
   "source": [
    "import kfp\n",
    "import typing\n",
    "from typing import Dict\n",
    "from typing import NamedTuple\n",
    "from kfp import dsl\n",
    "from kfp.dsl import (Artifact,\n",
    "                        Dataset,\n",
    "                        Input,\n",
    "                        Model,\n",
    "                        Output,\n",
    "                        Metrics,\n",
    "                        ClassificationMetrics,\n",
    "                        component,\n",
    "                        OutputPath,\n",
    "                        InputPath)\n",
    "import google.cloud.aiplatform as aip"
   ]
  },
  {
   "cell_type": "markdown",
   "metadata": {},
   "source": [
    "### Pipeline config"
   ]
  },
  {
   "cell_type": "code",
   "execution_count": 2,
   "metadata": {},
   "outputs": [],
   "source": [
    "#The Google Cloud project that this pipeline runs in.\n",
    "PROJECT_ID = \"assignment1-402316\"\n",
    "# The region that this pipeline runs in\n",
    "REGION = \"us-central1\"\n",
    "# Specify a Cloud Storage URI that your pipelines service account can access. The artifacts of your pipeline runs are stored within the pipeline root.\n",
    "PIPELINE_ROOT = \"gs://temp_de2023_group1\"\n",
    "# image registry location\n",
    "IMAGE_REG = \"image-repo-group1\""
   ]
  },
  {
   "cell_type": "code",
   "execution_count": 4,
   "metadata": {},
   "outputs": [],
   "source": [
    "@dsl.container_component\n",
    "def toxic_data_ingestion(project: str, bucket: str, data_file_name: str,  features: Output[Dataset]):\n",
    "\n",
    "    return dsl.ContainerSpec(\n",
    "        image=f'{REGION}-docker.pkg.dev/{PROJECT_ID}/{IMAGE_REG}/toxic-data-ingestor:0.0.1',\n",
    "        command=[\n",
    "            'python3', '/pipelines/component/src/component.py'\n",
    "        ],\n",
    "        args=['--project_id',project,'--bucket',bucket,'--file_name',data_file_name,'--feature_path', features.path])"
   ]
  },
  {
   "cell_type": "code",
   "execution_count": 16,
   "metadata": {},
   "outputs": [],
   "source": [
    "@dsl.container_component\n",
    "def toxic_data_cleaner(features: Input[Dataset], cleaned_data: Output[Dataset]):\n",
    "\n",
    "    return dsl.ContainerSpec(\n",
    "        image=f'{REGION}-docker.pkg.dev/{PROJECT_ID}/{IMAGE_REG}/toxic-data-cleaner:0.0.1',\n",
    "        command=[\n",
    "            'python3', '/pipelines/component/src/component.py'\n",
    "        ],\n",
    "        args=['--raw_data_path',features.path,\n",
    "              '--cleaned_data_path', cleaned_data.path\n",
    "             ]\n",
    "    )"
   ]
  },
  {
   "cell_type": "code",
   "execution_count": 7,
   "outputs": [],
   "source": [
    "@dsl.container_component\n",
    "def toxic_train_test_split(cleaned_data: Input[Dataset], train: Output[Dataset], test: Output[Dataset]):\n",
    "\n",
    "    return dsl.ContainerSpec(\n",
    "        image=f'{REGION}-docker.pkg.dev/{PROJECT_ID}/{IMAGE_REG}/toxic-train-test-split:0.0.1',\n",
    "        command=[\n",
    "            'python3', '/pipelines/component/src/component.py'\n",
    "        ],\n",
    "        args=['--clean_data_path',cleaned_data.path,\n",
    "              '--train_path', train.path,\n",
    "              '--test_path', test.path\n",
    "             ]\n",
    "    )"
   ],
   "metadata": {
    "collapsed": false
   }
  },
  {
   "cell_type": "code",
   "execution_count": 17,
   "metadata": {},
   "outputs": [],
   "source": [
    "@dsl.container_component\n",
    "def multilabel_classifier_trainer(project: str, train: Input[Dataset], model_bucket: str,  metrics: OutputPath(str)):\n",
    "\n",
    "    return dsl.ContainerSpec(\n",
    "        image=f'{REGION}-docker.pkg.dev/{PROJECT_ID}/{IMAGE_REG}/toxic-multilabel-trainer:0.0.1',\n",
    "        command=[\n",
    "            'python3', '/pipelines/component/src/component.py'\n",
    "        ],\n",
    "        args=['--project_id', project,\n",
    "              '--train_path', train.path,\n",
    "              '--model_repo',model_bucket,\n",
    "              '--metrics_path', metrics\n",
    "             ]\n",
    "    )"
   ]
  },
  {
   "cell_type": "code",
   "execution_count": 10,
   "outputs": [],
   "source": [
    "@dsl.container_component\n",
    "def toxic_predictor(project: str, test: Input[Dataset], model_bucket: str, metrics: OutputPath(str)):\n",
    "\n",
    "    return dsl.ContainerSpec(\n",
    "        image=f'{REGION}-docker.pkg.dev/{PROJECT_ID}/{IMAGE_REG}/toxic-predictor:0.0.1',\n",
    "        command=[\n",
    "            'python3', '/pipelines/component/src/component.py'\n",
    "        ],\n",
    "        args=['--project_id', project,\n",
    "              '--predict_data', test.path,\n",
    "              '--model_repo',model_bucket,\n",
    "              '--metrics_path', metrics,\n",
    "              '--validation_data', 'True'\n",
    "             ]\n",
    "    )"
   ],
   "metadata": {
    "collapsed": false
   }
  },
  {
   "cell_type": "markdown",
   "metadata": {},
   "source": [
    "### Define the pipeline"
   ]
  },
  {
   "cell_type": "code",
   "execution_count": 20,
   "metadata": {},
   "outputs": [],
   "source": [
    "# Define the workflow of the pipeline.\n",
    "@kfp.dsl.pipeline(\n",
    "    name=\"toxic-predictor-mlp\")\n",
    "def pipeline(project_id: str, data_bucket: str, trainset_filename: str, model_repo: str):\n",
    "\n",
    "    # The first step\n",
    "    di_op = toxic_data_ingestion(\n",
    "        project=project_id,\n",
    "        bucket=data_bucket,\n",
    "        data_file_name=trainset_filename\n",
    "    )\n",
    "\n",
    "    # The second step\n",
    "    dc_op = toxic_data_cleaner(\n",
    "        features=di_op.outputs['features']\n",
    "    )\n",
    "\n",
    "    # The third step\n",
    "    tts_op = toxic_train_test_split(\n",
    "        cleaned_data=dc_op.outputs['cleaned_data']\n",
    "    )\n",
    "\n",
    "    # The fourth step\n",
    "    mc_op = multilabel_classifier_trainer(\n",
    "        project=project_id,\n",
    "        train=tts_op.outputs['train'],\n",
    "        model_bucket=model_repo\n",
    "    )\n",
    "\n",
    "    # The fifth step\n",
    "    tp_op = toxic_predictor(\n",
    "        project=project_id,\n",
    "        test=tts_op.outputs['test'],\n",
    "        model_bucket=model_repo\n",
    "    )\n",
    "\n",
    "    # Ensure toxic_predictor only starts after multilabel_classifier is done\n",
    "    tp_op.after(mc_op)"
   ]
  },
  {
   "cell_type": "markdown",
   "metadata": {},
   "source": [
    "### Compile the Pipeline"
   ]
  },
  {
   "cell_type": "code",
   "execution_count": 21,
   "metadata": {},
   "outputs": [],
   "source": [
    "from kfp import compiler\n",
    "compiler.Compiler().compile(pipeline_func=pipeline,\n",
    "        package_path='toxic_predictor_mlp.yaml')"
   ]
  },
  {
   "cell_type": "markdown",
   "metadata": {},
   "source": [
    "### Run the Pipeline"
   ]
  },
  {
   "cell_type": "code",
   "execution_count": 23,
   "metadata": {},
   "outputs": [
    {
     "name": "stdout",
     "output_type": "stream",
     "text": [
      "Creating PipelineJob\n",
      "PipelineJob created. Resource name: projects/791882449847/locations/us-central1/pipelineJobs/toxic-predictor-mlp-20231021201105\n",
      "To use this PipelineJob in another session:\n",
      "pipeline_job = aiplatform.PipelineJob.get('projects/791882449847/locations/us-central1/pipelineJobs/toxic-predictor-mlp-20231021201105')\n",
      "View Pipeline Job:\n",
      "https://console.cloud.google.com/vertex-ai/locations/us-central1/pipelines/runs/toxic-predictor-mlp-20231021201105?project=791882449847\n",
      "PipelineJob projects/791882449847/locations/us-central1/pipelineJobs/toxic-predictor-mlp-20231021201105 current state:\n",
      "3\n",
      "PipelineJob projects/791882449847/locations/us-central1/pipelineJobs/toxic-predictor-mlp-20231021201105 current state:\n",
      "3\n",
      "PipelineJob projects/791882449847/locations/us-central1/pipelineJobs/toxic-predictor-mlp-20231021201105 current state:\n",
      "3\n",
      "PipelineJob projects/791882449847/locations/us-central1/pipelineJobs/toxic-predictor-mlp-20231021201105 current state:\n",
      "3\n",
      "PipelineJob projects/791882449847/locations/us-central1/pipelineJobs/toxic-predictor-mlp-20231021201105 current state:\n",
      "3\n"
     ]
    },
    {
     "ename": "RuntimeError",
     "evalue": "Job failed with:\ncode: 9\nmessage: \"The DAG failed because some tasks failed. The failed tasks are: [toxic-predictor].; Job (project_id = assignment1-402316, job_id = 4016150388649492480) is failed due to the above error.; Failed to handle the job: {project_number = 791882449847, job_id = 4016150388649492480}\"\n",
     "output_type": "error",
     "traceback": [
      "\u001B[1;31m---------------------------------------------------------------------------\u001B[0m",
      "\u001B[1;31mRuntimeError\u001B[0m                              Traceback (most recent call last)",
      "Cell \u001B[1;32mIn[23], line 28\u001B[0m\n\u001B[0;32m     10\u001B[0m aip\u001B[38;5;241m.\u001B[39minit(\n\u001B[0;32m     11\u001B[0m     project\u001B[38;5;241m=\u001B[39mPROJECT_ID,\n\u001B[0;32m     12\u001B[0m     location\u001B[38;5;241m=\u001B[39mREGION,\n\u001B[0;32m     13\u001B[0m )\n\u001B[0;32m     15\u001B[0m job \u001B[38;5;241m=\u001B[39m aip\u001B[38;5;241m.\u001B[39mPipelineJob(\n\u001B[0;32m     16\u001B[0m     display_name\u001B[38;5;241m=\u001B[39m\u001B[38;5;124m\"\u001B[39m\u001B[38;5;124mtoxic-predictor-mlp-pipeline\u001B[39m\u001B[38;5;124m\"\u001B[39m,\n\u001B[0;32m     17\u001B[0m     template_path\u001B[38;5;241m=\u001B[39m\u001B[38;5;124m\"\u001B[39m\u001B[38;5;124mtoxic_predictor_mlp.yaml\u001B[39m\u001B[38;5;124m\"\u001B[39m,\n\u001B[1;32m   (...)\u001B[0m\n\u001B[0;32m     25\u001B[0m     }\n\u001B[0;32m     26\u001B[0m )\n\u001B[1;32m---> 28\u001B[0m \u001B[43mjob\u001B[49m\u001B[38;5;241;43m.\u001B[39;49m\u001B[43mrun\u001B[49m\u001B[43m(\u001B[49m\u001B[43m)\u001B[49m\n",
      "File \u001B[1;32m~\\DataEngineering\\venv\\Lib\\site-packages\\google\\cloud\\aiplatform\\pipeline_jobs.py:319\u001B[0m, in \u001B[0;36mPipelineJob.run\u001B[1;34m(self, service_account, network, sync, create_request_timeout)\u001B[0m\n\u001B[0;32m    300\u001B[0m \u001B[38;5;250m\u001B[39m\u001B[38;5;124;03m\"\"\"Run this configured PipelineJob and monitor the job until completion.\u001B[39;00m\n\u001B[0;32m    301\u001B[0m \n\u001B[0;32m    302\u001B[0m \u001B[38;5;124;03mArgs:\u001B[39;00m\n\u001B[1;32m   (...)\u001B[0m\n\u001B[0;32m    315\u001B[0m \u001B[38;5;124;03m        Optional. The timeout for the create request in seconds.\u001B[39;00m\n\u001B[0;32m    316\u001B[0m \u001B[38;5;124;03m\"\"\"\u001B[39;00m\n\u001B[0;32m    317\u001B[0m network \u001B[38;5;241m=\u001B[39m network \u001B[38;5;129;01mor\u001B[39;00m initializer\u001B[38;5;241m.\u001B[39mglobal_config\u001B[38;5;241m.\u001B[39mnetwork\n\u001B[1;32m--> 319\u001B[0m \u001B[38;5;28;43mself\u001B[39;49m\u001B[38;5;241;43m.\u001B[39;49m\u001B[43m_run\u001B[49m\u001B[43m(\u001B[49m\n\u001B[0;32m    320\u001B[0m \u001B[43m    \u001B[49m\u001B[43mservice_account\u001B[49m\u001B[38;5;241;43m=\u001B[39;49m\u001B[43mservice_account\u001B[49m\u001B[43m,\u001B[49m\n\u001B[0;32m    321\u001B[0m \u001B[43m    \u001B[49m\u001B[43mnetwork\u001B[49m\u001B[38;5;241;43m=\u001B[39;49m\u001B[43mnetwork\u001B[49m\u001B[43m,\u001B[49m\n\u001B[0;32m    322\u001B[0m \u001B[43m    \u001B[49m\u001B[43msync\u001B[49m\u001B[38;5;241;43m=\u001B[39;49m\u001B[43msync\u001B[49m\u001B[43m,\u001B[49m\n\u001B[0;32m    323\u001B[0m \u001B[43m    \u001B[49m\u001B[43mcreate_request_timeout\u001B[49m\u001B[38;5;241;43m=\u001B[39;49m\u001B[43mcreate_request_timeout\u001B[49m\u001B[43m,\u001B[49m\n\u001B[0;32m    324\u001B[0m \u001B[43m\u001B[49m\u001B[43m)\u001B[49m\n",
      "File \u001B[1;32m~\\DataEngineering\\venv\\Lib\\site-packages\\google\\cloud\\aiplatform\\base.py:817\u001B[0m, in \u001B[0;36moptional_sync.<locals>.optional_run_in_thread.<locals>.wrapper\u001B[1;34m(*args, **kwargs)\u001B[0m\n\u001B[0;32m    815\u001B[0m     \u001B[38;5;28;01mif\u001B[39;00m \u001B[38;5;28mself\u001B[39m:\n\u001B[0;32m    816\u001B[0m         VertexAiResourceNounWithFutureManager\u001B[38;5;241m.\u001B[39mwait(\u001B[38;5;28mself\u001B[39m)\n\u001B[1;32m--> 817\u001B[0m     \u001B[38;5;28;01mreturn\u001B[39;00m \u001B[43mmethod\u001B[49m\u001B[43m(\u001B[49m\u001B[38;5;241;43m*\u001B[39;49m\u001B[43margs\u001B[49m\u001B[43m,\u001B[49m\u001B[43m \u001B[49m\u001B[38;5;241;43m*\u001B[39;49m\u001B[38;5;241;43m*\u001B[39;49m\u001B[43mkwargs\u001B[49m\u001B[43m)\u001B[49m\n\u001B[0;32m    819\u001B[0m \u001B[38;5;66;03m# callbacks to call within the Future (in same Thread)\u001B[39;00m\n\u001B[0;32m    820\u001B[0m internal_callbacks \u001B[38;5;241m=\u001B[39m []\n",
      "File \u001B[1;32m~\\DataEngineering\\venv\\Lib\\site-packages\\google\\cloud\\aiplatform\\pipeline_jobs.py:356\u001B[0m, in \u001B[0;36mPipelineJob._run\u001B[1;34m(self, service_account, network, sync, create_request_timeout)\u001B[0m\n\u001B[0;32m    334\u001B[0m \u001B[38;5;250m\u001B[39m\u001B[38;5;124;03m\"\"\"Helper method to ensure network synchronization and to run\u001B[39;00m\n\u001B[0;32m    335\u001B[0m \u001B[38;5;124;03mthe configured PipelineJob and monitor the job until completion.\u001B[39;00m\n\u001B[0;32m    336\u001B[0m \n\u001B[1;32m   (...)\u001B[0m\n\u001B[0;32m    348\u001B[0m \u001B[38;5;124;03m        Optional. The timeout for the create request in seconds.\u001B[39;00m\n\u001B[0;32m    349\u001B[0m \u001B[38;5;124;03m\"\"\"\u001B[39;00m\n\u001B[0;32m    350\u001B[0m \u001B[38;5;28mself\u001B[39m\u001B[38;5;241m.\u001B[39msubmit(\n\u001B[0;32m    351\u001B[0m     service_account\u001B[38;5;241m=\u001B[39mservice_account,\n\u001B[0;32m    352\u001B[0m     network\u001B[38;5;241m=\u001B[39mnetwork,\n\u001B[0;32m    353\u001B[0m     create_request_timeout\u001B[38;5;241m=\u001B[39mcreate_request_timeout,\n\u001B[0;32m    354\u001B[0m )\n\u001B[1;32m--> 356\u001B[0m \u001B[38;5;28;43mself\u001B[39;49m\u001B[38;5;241;43m.\u001B[39;49m\u001B[43m_block_until_complete\u001B[49m\u001B[43m(\u001B[49m\u001B[43m)\u001B[49m\n",
      "File \u001B[1;32m~\\DataEngineering\\venv\\Lib\\site-packages\\google\\cloud\\aiplatform\\pipeline_jobs.py:595\u001B[0m, in \u001B[0;36mPipelineJob._block_until_complete\u001B[1;34m(self)\u001B[0m\n\u001B[0;32m    592\u001B[0m \u001B[38;5;66;03m# Error is only populated when the job state is\u001B[39;00m\n\u001B[0;32m    593\u001B[0m \u001B[38;5;66;03m# JOB_STATE_FAILED or JOB_STATE_CANCELLED.\u001B[39;00m\n\u001B[0;32m    594\u001B[0m \u001B[38;5;28;01mif\u001B[39;00m \u001B[38;5;28mself\u001B[39m\u001B[38;5;241m.\u001B[39m_gca_resource\u001B[38;5;241m.\u001B[39mstate \u001B[38;5;129;01min\u001B[39;00m _PIPELINE_ERROR_STATES:\n\u001B[1;32m--> 595\u001B[0m     \u001B[38;5;28;01mraise\u001B[39;00m \u001B[38;5;167;01mRuntimeError\u001B[39;00m(\u001B[38;5;124m\"\u001B[39m\u001B[38;5;124mJob failed with:\u001B[39m\u001B[38;5;130;01m\\n\u001B[39;00m\u001B[38;5;132;01m%s\u001B[39;00m\u001B[38;5;124m\"\u001B[39m \u001B[38;5;241m%\u001B[39m \u001B[38;5;28mself\u001B[39m\u001B[38;5;241m.\u001B[39m_gca_resource\u001B[38;5;241m.\u001B[39merror)\n\u001B[0;32m    596\u001B[0m \u001B[38;5;28;01melse\u001B[39;00m:\n\u001B[0;32m    597\u001B[0m     _LOGGER\u001B[38;5;241m.\u001B[39mlog_action_completed_against_resource(\u001B[38;5;124m\"\u001B[39m\u001B[38;5;124mrun\u001B[39m\u001B[38;5;124m\"\u001B[39m, \u001B[38;5;124m\"\u001B[39m\u001B[38;5;124mcompleted\u001B[39m\u001B[38;5;124m\"\u001B[39m, \u001B[38;5;28mself\u001B[39m)\n",
      "\u001B[1;31mRuntimeError\u001B[0m: Job failed with:\ncode: 9\nmessage: \"The DAG failed because some tasks failed. The failed tasks are: [toxic-predictor].; Job (project_id = assignment1-402316, job_id = 4016150388649492480) is failed due to the above error.; Failed to handle the job: {project_number = 791882449847, job_id = 4016150388649492480}\"\n"
     ]
    }
   ],
   "source": [
    "import google.cloud.aiplatform as aip\n",
    "import os\n",
    "\n",
    "#roman help: wat is dit / hebben wij dit gedaan? (GOOGLE_APPLICATION_CREDENTIALS)\n",
    "# Before initializing, make sure to set the GOOGLE_APPLICATION_CREDENTIALS\n",
    "# environment variable to the path of your service account.\n",
    "\n",
    "os.environ[\"GOOGLE_APPLICATION_CREDENTIALS\"] = \"assignment1-402316-dc4baf177723.json\"\n",
    "\n",
    "aip.init(\n",
    "    project=PROJECT_ID,\n",
    "    location=REGION,\n",
    ")\n",
    "\n",
    "job = aip.PipelineJob(\n",
    "    display_name=\"toxic-predictor-mlp-pipeline\",\n",
    "    template_path=\"toxic_predictor_mlp.yaml\",\n",
    "    enable_caching=False,\n",
    "    pipeline_root=PIPELINE_ROOT,\n",
    "    parameter_values={\n",
    "        'project_id': PROJECT_ID,\n",
    "        'data_bucket': 'data_de2023_group1',\n",
    "        'trainset_filename': 'train.csv',\n",
    "        'model_repo':'models_de2023_group1'\n",
    "    }\n",
    ")\n",
    "\n",
    "job.run()"
   ]
  }
 ],
 "metadata": {
  "interpreter": {
   "hash": "31f2aee4e71d21fbe5cf8b01ff0e069b9275f58929596ceb00d14d90e3e16cd6"
  },
  "kernelspec": {
   "name": "python3",
   "language": "python",
   "display_name": "Python 3 (ipykernel)"
  },
  "language_info": {
   "codemirror_mode": {
    "name": "ipython",
    "version": 3
   },
   "file_extension": ".py",
   "mimetype": "text/x-python",
   "name": "python",
   "nbconvert_exporter": "python",
   "pygments_lexer": "ipython3",
   "version": "3.10.12"
  }
 },
 "nbformat": 4,
 "nbformat_minor": 4
}
